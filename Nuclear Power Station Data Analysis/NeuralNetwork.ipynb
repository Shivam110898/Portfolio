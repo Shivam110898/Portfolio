{
 "cells": [
  {
   "cell_type": "code",
   "execution_count": 22,
   "metadata": {},
   "outputs": [],
   "source": [
    "import math\n",
    "import operator\n",
    "import numpy as np\n",
    "import pandas as pd\n",
    "import seaborn as sns\n",
    "from sklearn.model_selection import train_test_split\n",
    "from sklearn import metrics\n",
    "from sklearn.preprocessing import StandardScaler  \n",
    "from sklearn.neural_network import MLPClassifier\n",
    "from sklearn.preprocessing import LabelEncoder\n",
    "\n",
    "sns.set()\n",
    "\n",
    "#Read the data set\n",
    "data = pd.read_csv('dataset.csv')"
   ]
  },
  {
   "cell_type": "code",
   "execution_count": 23,
   "metadata": {},
   "outputs": [
    {
     "data": {
      "text/html": [
       "<div>\n",
       "<style scoped>\n",
       "    .dataframe tbody tr th:only-of-type {\n",
       "        vertical-align: middle;\n",
       "    }\n",
       "\n",
       "    .dataframe tbody tr th {\n",
       "        vertical-align: top;\n",
       "    }\n",
       "\n",
       "    .dataframe thead th {\n",
       "        text-align: right;\n",
       "    }\n",
       "</style>\n",
       "<table border=\"1\" class=\"dataframe\">\n",
       "  <thead>\n",
       "    <tr style=\"text-align: right;\">\n",
       "      <th></th>\n",
       "      <th>Status</th>\n",
       "      <th>Power_range_sensor_1</th>\n",
       "      <th>Power_range_sensor_2</th>\n",
       "      <th>Power_range_sensor_3</th>\n",
       "      <th>Power_range_sensor_4</th>\n",
       "      <th>Pressure_sensor_1</th>\n",
       "      <th>Pressure_sensor_2</th>\n",
       "      <th>Pressure_sensor_3</th>\n",
       "      <th>Pressure_sensor_4</th>\n",
       "      <th>Temperature_sensor_1</th>\n",
       "      <th>Temperature_sensor_2</th>\n",
       "      <th>Temperature_sensor_3</th>\n",
       "      <th>Temperature_sensor_4</th>\n",
       "    </tr>\n",
       "  </thead>\n",
       "  <tbody>\n",
       "    <tr>\n",
       "      <th>0</th>\n",
       "      <td>Normal</td>\n",
       "      <td>4.5044</td>\n",
       "      <td>0.7443</td>\n",
       "      <td>6.3400</td>\n",
       "      <td>1.9052</td>\n",
       "      <td>29.5315</td>\n",
       "      <td>0.8647</td>\n",
       "      <td>2.2044</td>\n",
       "      <td>6.0480</td>\n",
       "      <td>14.4659</td>\n",
       "      <td>21.6480</td>\n",
       "      <td>15.3429</td>\n",
       "      <td>1.2186</td>\n",
       "    </tr>\n",
       "    <tr>\n",
       "      <th>1</th>\n",
       "      <td>Normal</td>\n",
       "      <td>4.4284</td>\n",
       "      <td>0.9073</td>\n",
       "      <td>5.6433</td>\n",
       "      <td>1.6232</td>\n",
       "      <td>27.5032</td>\n",
       "      <td>1.4704</td>\n",
       "      <td>1.9929</td>\n",
       "      <td>5.9856</td>\n",
       "      <td>20.8356</td>\n",
       "      <td>0.0646</td>\n",
       "      <td>14.8813</td>\n",
       "      <td>7.3483</td>\n",
       "    </tr>\n",
       "    <tr>\n",
       "      <th>2</th>\n",
       "      <td>Normal</td>\n",
       "      <td>4.5291</td>\n",
       "      <td>1.0199</td>\n",
       "      <td>6.1130</td>\n",
       "      <td>1.0565</td>\n",
       "      <td>26.4271</td>\n",
       "      <td>1.9247</td>\n",
       "      <td>1.9420</td>\n",
       "      <td>6.7162</td>\n",
       "      <td>5.3358</td>\n",
       "      <td>11.0779</td>\n",
       "      <td>25.0914</td>\n",
       "      <td>9.2408</td>\n",
       "    </tr>\n",
       "    <tr>\n",
       "      <th>3</th>\n",
       "      <td>Normal</td>\n",
       "      <td>5.1727</td>\n",
       "      <td>1.0007</td>\n",
       "      <td>7.8589</td>\n",
       "      <td>0.2765</td>\n",
       "      <td>25.1576</td>\n",
       "      <td>2.6090</td>\n",
       "      <td>2.9234</td>\n",
       "      <td>6.7485</td>\n",
       "      <td>1.9017</td>\n",
       "      <td>1.8463</td>\n",
       "      <td>28.6640</td>\n",
       "      <td>4.0157</td>\n",
       "    </tr>\n",
       "    <tr>\n",
       "      <th>4</th>\n",
       "      <td>Normal</td>\n",
       "      <td>5.2258</td>\n",
       "      <td>0.6125</td>\n",
       "      <td>7.9504</td>\n",
       "      <td>0.1547</td>\n",
       "      <td>24.0765</td>\n",
       "      <td>3.2113</td>\n",
       "      <td>4.4563</td>\n",
       "      <td>5.8411</td>\n",
       "      <td>0.5077</td>\n",
       "      <td>9.3700</td>\n",
       "      <td>34.8122</td>\n",
       "      <td>13.4966</td>\n",
       "    </tr>\n",
       "  </tbody>\n",
       "</table>\n",
       "</div>"
      ],
      "text/plain": [
       "   Status  Power_range_sensor_1  Power_range_sensor_2  Power_range_sensor_3   \\\n",
       "0  Normal                4.5044                0.7443                 6.3400   \n",
       "1  Normal                4.4284                0.9073                 5.6433   \n",
       "2  Normal                4.5291                1.0199                 6.1130   \n",
       "3  Normal                5.1727                1.0007                 7.8589   \n",
       "4  Normal                5.2258                0.6125                 7.9504   \n",
       "\n",
       "   Power_range_sensor_4  Pressure_sensor_1  Pressure_sensor_2  \\\n",
       "0                1.9052            29.5315             0.8647   \n",
       "1                1.6232            27.5032             1.4704   \n",
       "2                1.0565            26.4271             1.9247   \n",
       "3                0.2765            25.1576             2.6090   \n",
       "4                0.1547            24.0765             3.2113   \n",
       "\n",
       "   Pressure_sensor_3  Pressure_sensor_4  Temperature_sensor_1  \\\n",
       "0             2.2044             6.0480               14.4659   \n",
       "1             1.9929             5.9856               20.8356   \n",
       "2             1.9420             6.7162                5.3358   \n",
       "3             2.9234             6.7485                1.9017   \n",
       "4             4.4563             5.8411                0.5077   \n",
       "\n",
       "   Temperature_sensor_2  Temperature_sensor_3  Temperature_sensor_4  \n",
       "0               21.6480               15.3429                1.2186  \n",
       "1                0.0646               14.8813                7.3483  \n",
       "2               11.0779               25.0914                9.2408  \n",
       "3                1.8463               28.6640                4.0157  \n",
       "4                9.3700               34.8122               13.4966  "
      ]
     },
     "execution_count": 23,
     "metadata": {},
     "output_type": "execute_result"
    }
   ],
   "source": [
    "data.head()  "
   ]
  },
  {
   "cell_type": "code",
   "execution_count": 24,
   "metadata": {},
   "outputs": [
    {
     "name": "stderr",
     "output_type": "stream",
     "text": [
      "/anaconda2/lib/python2.7/site-packages/sklearn/preprocessing/label.py:235: DataConversionWarning: A column-vector y was passed when a 1d array was expected. Please change the shape of y to (n_samples, ), for example using ravel().\n",
      "  y = column_or_1d(y, warn=True)\n"
     ]
    }
   ],
   "source": [
    "#Seperate features and target variables\n",
    "X=data.iloc[:,1:13] #Features to be used\n",
    "y=data[['Status']] #Target variable\n",
    "\n",
    "encoder = LabelEncoder()\n",
    "y = encoder.fit_transform(y)"
   ]
  },
  {
   "cell_type": "code",
   "execution_count": 25,
   "metadata": {},
   "outputs": [],
   "source": [
    "#Use the sklearn.model selection library to evenly split the dataset\n",
    "X_train, X_test, y_train, y_test = train_test_split(X, y, test_size=0.1) # 90% training and 10% test"
   ]
  },
  {
   "cell_type": "code",
   "execution_count": 26,
   "metadata": {},
   "outputs": [],
   "source": [
    "#Feature scaling\n",
    "feature_scaler = StandardScaler()  \n",
    "X_train = feature_scaler.fit_transform(X_train)  \n",
    "X_test = feature_scaler.transform(X_test)  "
   ]
  },
  {
   "cell_type": "code",
   "execution_count": 27,
   "metadata": {},
   "outputs": [],
   "source": [
    "#Declare a neural network classifier with 100 hidden neurons, \n",
    "neuralNetwork = MLPClassifier(hidden_layer_sizes=(100,), max_iter=25000, activation='logistic')\n",
    "\n",
    "#Train the model on the training data\n",
    "neuralNetwork.fit(X_train,y_train)\n",
    "\n",
    "#Test the model\n",
    "y_pred = neuralNetwork.predict(X_test)"
   ]
  },
  {
   "cell_type": "code",
   "execution_count": 28,
   "metadata": {},
   "outputs": [
    {
     "name": "stdout",
     "output_type": "stream",
     "text": [
      "('Accuracy on test set: ', 0.92)\n"
     ]
    }
   ],
   "source": [
    "#Find the model accuracy \n",
    "print(\"Accuracy on test set: \", metrics.accuracy_score(y_test, y_pred))"
   ]
  },
  {
   "cell_type": "code",
   "execution_count": null,
   "metadata": {},
   "outputs": [],
   "source": []
  }
 ],
 "metadata": {
  "kernelspec": {
   "display_name": "Python 2",
   "language": "python",
   "name": "python2"
  },
  "language_info": {
   "codemirror_mode": {
    "name": "ipython",
    "version": 2
   },
   "file_extension": ".py",
   "mimetype": "text/x-python",
   "name": "python",
   "nbconvert_exporter": "python",
   "pygments_lexer": "ipython2",
   "version": "2.7.15"
  }
 },
 "nbformat": 4,
 "nbformat_minor": 2
}
